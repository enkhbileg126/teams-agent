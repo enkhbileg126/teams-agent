{
 "cells": [
  {
   "cell_type": "code",
   "execution_count": 1,
   "id": "6a4432c0",
   "metadata": {},
   "outputs": [
    {
     "name": "stdout",
     "output_type": "stream",
     "text": [
      "Successfully removed duplicate lines and saved the result to data/cleaned.csv\n"
     ]
    }
   ],
   "source": [
    "from src.duprm import remove_duplicates_pandas\n",
    "\n",
    "remove_duplicates_pandas(\"data/catlist.csv\", \"data/cleaned.csv\")"
   ]
  }
 ],
 "metadata": {
  "kernelspec": {
   "display_name": "base",
   "language": "python",
   "name": "python3"
  },
  "language_info": {
   "codemirror_mode": {
    "name": "ipython",
    "version": 3
   },
   "file_extension": ".py",
   "mimetype": "text/x-python",
   "name": "python",
   "nbconvert_exporter": "python",
   "pygments_lexer": "ipython3",
   "version": "3.13.2"
  }
 },
 "nbformat": 4,
 "nbformat_minor": 5
}
