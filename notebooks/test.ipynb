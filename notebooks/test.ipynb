{
 "cells": [
  {
   "cell_type": "code",
   "execution_count": 1,
   "metadata": {},
   "outputs": [],
   "source": [
    "from src.pipeline_4_agent import SequentialAgentPipeline\n",
    "from src.retrieval_then_llm import SmartClassifier\n",
    "\n",
    "ticket = \"\"\"\n",
    "'П. Дэжидмаа': \"Get started\"\n",
    "'customer service': \"Сайн байна уу? 👋 Toki апп-тай холбоотой бүх төрлийн асуултуудаа бичээрэй 😊\"\n",
    "'customer service': \"Та төлбөрийн гүйлгээний хуулга эсвэл үйлчилгээтэй холбоотой алдааны зураг илгээсэн үү 😊\"\n",
    "'П. Дэжидмаа': \"uul ni toltson baihad yagaad ingeed garj ireed baigaa ym boloo\"\n",
    "'П. Дэжидмаа': \"uuchlarai anduurtsan bn\"\n",
    "'customer service': \"Сайн байна уу? Би Уянга байна 🙋‍♀️ Танд өөр асууж тодруулах зүйл гарвал бичээрэй. Бид танд туслахдаа үргэлж баяртай байх болно 😊\"\n",
    "'П. Дэжидмаа': \"uuchlarai anduurtsan bn\"\n",
    "'customer service': \"Бид танд туслахдаа үргэлж баяртай байх болно. Toki-г сонгосонд баярлалаа😊️💛️\"\n",
    "\"\"\""
   ]
  },
  {
   "cell_type": "code",
   "execution_count": 2,
   "metadata": {},
   "outputs": [
    {
     "name": "stdout",
     "output_type": "stream",
     "text": [
      "Loading and preparing taxonomy from data/cleaned.csv...\n",
      "Toki>Бүртгэл, тохиргоо>Бүртгүүлэхтэй холбоотой>L2-Хэрэглэгчээс шалтгаалсан\n"
     ]
    }
   ],
   "source": [
    "pipeline = SequentialAgentPipeline(\"data/cleaned.csv\")\n",
    "final_categorization = await pipeline.run(ticket)"
   ]
  },
  {
   "cell_type": "code",
   "execution_count": 2,
   "metadata": {},
   "outputs": [
    {
     "name": "stdout",
     "output_type": "stream",
     "text": [
      "Initializing Smart Classifier (Domain→Cat1→Cat2→Cat3)...\n",
      "Loading existing FAISS index from taxonomy.index...\n"
     ]
    }
   ],
   "source": [
    "classifier = SmartClassifier(csv_path=\"data/cleaned.csv\")\n",
    "result = await classifier.classify(ticket)"
   ]
  },
  {
   "cell_type": "code",
   "execution_count": 3,
   "metadata": {},
   "outputs": [
    {
     "name": "stdout",
     "output_type": "stream",
     "text": [
      "Toki > Үйлчилгээ > Toki Power > Төлөлт,  гүйлгээтэй холбоотой\n"
     ]
    }
   ],
   "source": [
    "print(result[\"path_mn\"])"
   ]
  }
 ],
 "metadata": {
  "kernelspec": {
   "display_name": "base",
   "language": "python",
   "name": "python3"
  },
  "language_info": {
   "codemirror_mode": {
    "name": "ipython",
    "version": 3
   },
   "file_extension": ".py",
   "mimetype": "text/x-python",
   "name": "python",
   "nbconvert_exporter": "python",
   "pygments_lexer": "ipython3",
   "version": "3.13.2"
  },
  "orig_nbformat": 4
 },
 "nbformat": 4,
 "nbformat_minor": 2
}
