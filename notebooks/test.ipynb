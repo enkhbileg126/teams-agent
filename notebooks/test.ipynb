{
 "cells": [
  {
   "cell_type": "code",
   "execution_count": 1,
   "metadata": {},
   "outputs": [
    {
     "data": {
      "text/plain": [
       "environ{'SHELL': '/bin/bash',\n",
       "        'NVM_RC_VERSION': '',\n",
       "        'VSCODE_VERBOSE_LOGGING': 'true',\n",
       "        'PYTHONUNBUFFERED': '1',\n",
       "        'CONDA_EXE': '/opt/conda/bin/conda',\n",
       "        '_CE_M': '',\n",
       "        'VSCODE_LOG_STACK': 'false',\n",
       "        'HOSTNAME': '73e230fca95e',\n",
       "        'SSH_AUTH_SOCK': '/tmp/vscode-ssh-auth-33595b77d2353fc45228d904dbd09f0217a36354.sock',\n",
       "        'VSCODE_INJECT_NODE_MODULE_LOOKUP_PATH': '/vscode/vscode-server/bin/linux-x64/6cba118ac49a1b88332f312a8f67186f7f3c1643/remote/node_modules',\n",
       "        'REMOTE_CONTAINERS_IPC': '/tmp/vscode-remote-containers-ipc-33595b77d2353fc45228d904dbd09f0217a36354.sock',\n",
       "        'VSCODE_PIPE_LOGGING': 'true',\n",
       "        'VSCODE_AMD_ENTRYPOINT': 'vs/server/remoteExtensionHostProcess',\n",
       "        'PWD': '/vscode/vscode-server/bin/linux-x64/6cba118ac49a1b88332f312a8f67186f7f3c1643',\n",
       "        'PIPX_BIN_DIR': '/usr/local/py-utils/bin',\n",
       "        'CONDA_PREFIX': '/opt/conda',\n",
       "        'TZ': 'Asia/Ulaanbaatar',\n",
       "        'HOME': '/home/vscode',\n",
       "        'LANG': 'C.UTF-8',\n",
       "        'LS_COLORS': '',\n",
       "        'NVM_SYMLINK_CURRENT': 'true',\n",
       "        'REMOTE_CONTAINERS': 'true',\n",
       "        'CONDA_PROMPT_MODIFIER': '(base) ',\n",
       "        'VSCODE_AGENT_FOLDER': '/home/vscode/.vscode-server',\n",
       "        'NVM_DIR': '/usr/local/share/nvm',\n",
       "        'VSCODE_EXTHOST_WILL_SEND_SOCKET': 'true',\n",
       "        '_CE_CONDA': '',\n",
       "        'REMOTE_CONTAINERS_SOCKETS': '[\"/tmp/vscode-ssh-auth-33595b77d2353fc45228d904dbd09f0217a36354.sock\"]',\n",
       "        'USER': 'vscode',\n",
       "        'NLS_LANG': 'AMERICAN_AMERICA.AL32UTF8',\n",
       "        'PYTHONIOENCODING': 'utf-8',\n",
       "        'CONDA_SHLVL': '1',\n",
       "        'PIPX_HOME': '/usr/local/py-utils',\n",
       "        'SHLVL': '0',\n",
       "        'NVM_CD_FLAGS': '',\n",
       "        'PROMPT_DIRTRIM': '4',\n",
       "        'VSCODE_CWD': '/vscode/vscode-server/bin/linux-x64/6cba118ac49a1b88332f312a8f67186f7f3c1643',\n",
       "        'CONDA_PYTHON_EXE': '/opt/conda/bin/python',\n",
       "        'LD_LIBRARY_PATH': '/opt/oracle/instantclient_21_3:',\n",
       "        'CONDA_DEFAULT_ENV': 'base',\n",
       "        'LC_ALL': 'C.UTF-8',\n",
       "        'BROWSER': '/vscode/vscode-server/bin/linux-x64/6cba118ac49a1b88332f312a8f67186f7f3c1643/bin/helpers/browser.sh',\n",
       "        'PATH': '/opt/conda/bin:/vscode/vscode-server/bin/linux-x64/6cba118ac49a1b88332f312a8f67186f7f3c1643/bin:/opt/conda/condabin:/usr/local/share/nvm/current/bin:/opt/conda/bin:/usr/local/sbin:/usr/local/bin:/usr/sbin:/usr/bin:/sbin:/bin:/usr/local/py-utils/bin',\n",
       "        'VSCODE_NLS_CONFIG': '{\"locale\":\"en\",\"availableLanguages\":{}}',\n",
       "        'VSCODE_LOG_NATIVE': 'false',\n",
       "        'VSCODE_HANDLES_UNCAUGHT_ERRORS': 'true',\n",
       "        'VSCODE_IPC_HOOK_CLI': '/tmp/vscode-ipc-f6f3d3ca-f475-4ced-8160-f890c9d8f09f.sock',\n",
       "        '_': '/opt/conda/bin/python',\n",
       "        'PYTHONPATH': '/home/vscode/.vscode-server/extensions/ms-toolsai.jupyter-2021.9.1101343141/pythonFiles:/home/vscode/.vscode-server/extensions/ms-toolsai.jupyter-2021.9.1101343141/pythonFiles/lib/python',\n",
       "        'JPY_PARENT_PID': '1595',\n",
       "        'PYDEVD_USE_FRAME_EVAL': 'NO',\n",
       "        'TERM': 'xterm-color',\n",
       "        'CLICOLOR': '1',\n",
       "        'PAGER': 'cat',\n",
       "        'GIT_PAGER': 'cat',\n",
       "        'MPLBACKEND': 'module://matplotlib_inline.backend_inline'}"
      ]
     },
     "execution_count": 1,
     "metadata": {},
     "output_type": "execute_result"
    }
   ],
   "source": [
    "import os\n",
    "\n",
    "os.environ"
   ]
  }
 ],
 "metadata": {
  "interpreter": {
   "hash": "d4d1e4263499bec80672ea0156c357c1ee493ec2b1c70f0acce89fc37c4a6abe"
  },
  "kernelspec": {
   "display_name": "Python 3.7.11 64-bit ('base': conda)",
   "name": "python3"
  },
  "language_info": {
   "codemirror_mode": {
    "name": "ipython",
    "version": 3
   },
   "file_extension": ".py",
   "mimetype": "text/x-python",
   "name": "python",
   "nbconvert_exporter": "python",
   "pygments_lexer": "ipython3",
   "version": "3.10.10"
  },
  "orig_nbformat": 4
 },
 "nbformat": 4,
 "nbformat_minor": 2
}
