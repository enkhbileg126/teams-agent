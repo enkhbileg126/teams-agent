{
 "cells": [
  {
   "cell_type": "code",
   "execution_count": 1,
   "id": "5fe7af61",
   "metadata": {},
   "outputs": [],
   "source": [
    "# --- Notebook Cell 1: Setup & helpers ---\n",
    "\n",
    "import asyncio\n",
    "import json\n",
    "import os\n",
    "\n",
    "os.environ.setdefault(\"GRPC_VERBOSITY\", \"NONE\")\n",
    "os.environ.setdefault(\"GLOG_minloglevel\", \"2\")\n",
    "from src.pipeline_4_agent import SequentialAgentPipeline\n",
    "from src.retrieval_then_llm import SmartClassifier\n",
    "from dataclasses import dataclass\n",
    "from typing import Dict, List, Optional, Tuple\n",
    "\n",
    "import pandas as pd\n",
    "from difflib import SequenceMatcher\n",
    "\n",
    "# Your project imports\n",
    "# from your_module import SequentialAgentPipeline, SmartClassifier\n",
    "\n",
    "# ---------- Config ----------\n",
    "DATA_DIR = \"data\"\n",
    "TICKETS_CSV = os.path.join(DATA_DIR, \"dataset_for_categorization.csv\")  # input\n",
    "TAXONOMY_CSV = os.path.join(DATA_DIR, \"cleaned.csv\")  # taxonomy\n",
    "OUT_DETAILED = os.path.join(DATA_DIR, \"evaluated_detailed.csv\")  # output (rows)\n",
    "OUT_SUMMARY = os.path.join(DATA_DIR, \"metrics_summary.csv\")  # output (summary)\n",
    "\n",
    "# ---------- Ground truth column fallbacks ----------\n",
    "GT_CANDIDATE_NAMES = [\n",
    "    # (L1, L2, L3, L4) ordered by preference; we pick the first set that exists\n",
    "    (\"gt_domain\", \"gt_category_1\", \"gt_category_2\", \"gt_category_3\"),\n",
    "    (\"truth_domain\", \"truth_cat1\", \"truth_cat2\", \"truth_cat3\"),\n",
    "    (\"Domain\", \"Cat1\", \"Cat2\", \"Cat3\"),\n",
    "    (\"domain\", \"category_1\", \"category_2\", \"category_3\"),\n",
    "]\n",
    "\n",
    "# ---------- Utilities ----------\n",
    "\n",
    "\n",
    "def first_existing_column_set(\n",
    "    df: pd.DataFrame, candidates: List[Tuple[str, str, str, str]]\n",
    ") -> Optional[Tuple[str, str, str, str]]:\n",
    "    for cols in candidates:\n",
    "        if all(c in df.columns for c in cols):\n",
    "            return cols\n",
    "    return None\n",
    "\n",
    "\n",
    "def normalize_str(x: Optional[str]) -> str:\n",
    "    if x is None:\n",
    "        return \"\"\n",
    "    return str(x).strip()\n",
    "\n",
    "\n",
    "def build_path(*parts: str) -> str:\n",
    "    parts = [normalize_str(p) for p in parts if normalize_str(p)]\n",
    "    return \" > \".join(parts)\n",
    "\n",
    "\n",
    "def seq_extract_names(seq_dict: Dict[str, str]) -> Tuple[str, str, str, str]:\n",
    "    \"\"\"\n",
    "    SequentialAgentPipeline output (your example):\n",
    "      keys_in_order = [\"domain\", \"category_1\", \"category_2\", \"category_3\"]\n",
    "    Missing keys or blanks are normalized to \"\".\n",
    "    \"\"\"\n",
    "    keys = [\"domain\", \"category_1\", \"category_2\", \"category_3\"]\n",
    "    vals = [\n",
    "        normalize_str(seq_dict.get(k)) if isinstance(seq_dict, dict) else \"\"\n",
    "        for k in keys\n",
    "    ]\n",
    "    return tuple(vals)  # (L1, L2, L3, L4)\n",
    "\n",
    "\n",
    "def kb_extract_levels(kb_obj: Dict) -> Dict[str, Dict[str, Optional[str]]]:\n",
    "    \"\"\"\n",
    "    SmartClassifier output (your example):\n",
    "      {\n",
    "        \"best_path\": {\n",
    "          \"L1_domain\": {\"id\": \"...\", \"confidence\": 0.9, \"name\": \"...\"},\n",
    "          ...\n",
    "        },\n",
    "        \"selected_index\": 42,\n",
    "        \"abstain\": False,\n",
    "        \"rationale\": \"...\",\n",
    "        \"path_mn\": \"...\"\n",
    "      }\n",
    "    \"\"\"\n",
    "    best = kb_obj.get(\"best_path\", {}) or {}\n",
    "\n",
    "    def get_node(key: str) -> Dict[str, Optional[str]]:\n",
    "        node = best.get(key, {}) or {}\n",
    "        return {\n",
    "            \"id\": node.get(\"id\"),\n",
    "            \"name\": node.get(\"name\"),\n",
    "            \"confidence\": node.get(\"confidence\"),\n",
    "        }\n",
    "\n",
    "    return {\n",
    "        \"L1\": get_node(\"L1_domain\"),\n",
    "        \"L2\": get_node(\"L2_cat1\"),\n",
    "        \"L3\": get_node(\"L3_cat2\"),\n",
    "        \"L4\": get_node(\"L4_cat3\"),\n",
    "        \"meta\": {\n",
    "            \"selected_index\": kb_obj.get(\"selected_index\"),\n",
    "            \"abstain\": kb_obj.get(\"abstain\"),\n",
    "            \"rationale\": kb_obj.get(\"rationale\"),\n",
    "            \"path_mn\": kb_obj.get(\"path_mn\"),\n",
    "        },\n",
    "    }\n",
    "\n",
    "\n",
    "def fuzzy_ratio(a: str, b: str) -> float:\n",
    "    # simple 0..1 using difflib (token order preserved; good enough without extra deps)\n",
    "    return SequenceMatcher(None, normalize_str(a), normalize_str(b)).ratio()\n",
    "\n",
    "\n",
    "def part_match_score(\n",
    "    gt: Tuple[str, str, str, str], pred: Tuple[str, str, str, str]\n",
    ") -> float:\n",
    "    \"\"\"\n",
    "    Depth-aware prefix match.\n",
    "    Score = hits/depth with steps in {0,.25,.5,.75,1} (when depth=4); fewer steps with shallower GT.\n",
    "    \"\"\"\n",
    "    gt_levels = [normalize_str(x) for x in gt]\n",
    "    pr_levels = [normalize_str(x) for x in pred]\n",
    "    # how many GT levels actually exist (non-empty)\n",
    "    depth = 0\n",
    "    for x in gt_levels:\n",
    "        if x:\n",
    "            depth += 1\n",
    "        else:\n",
    "            break\n",
    "    if depth == 0:\n",
    "        return 0.0  # no GT available\n",
    "\n",
    "    hits = 0\n",
    "    for i in range(depth):\n",
    "        if gt_levels[i] and (gt_levels[i] == pr_levels[i]):\n",
    "            hits += 1\n",
    "        else:\n",
    "            break\n",
    "    return hits / depth"
   ]
  },
  {
   "cell_type": "code",
   "execution_count": 2,
   "id": "fa27ed3e",
   "metadata": {},
   "outputs": [
    {
     "name": "stdout",
     "output_type": "stream",
     "text": [
      "Loading and preparing taxonomy from data/cleaned.csv...\n",
      "Initializing Smart Classifier (Domain→Cat1→Cat2→Cat3)...\n",
      "Loading existing FAISS index from taxonomy.index...\n"
     ]
    },
    {
     "name": "stderr",
     "output_type": "stream",
     "text": [
      "Classifying:   0%|          | 0/46 [00:00<?, ?it/s]"
     ]
    },
    {
     "name": "stdout",
     "output_type": "stream",
     "text": [
      "Toki>Үйлчилгээ>Гар утас>Апп-тай холбоотой\n",
      "Path terminates at Cat2 for 'U-Point -> Гомдол -> Апп-тай холбоотой'.\n",
      "Toki>Бусад>Physical сувагтай холбоотой>L2-Хэрэглэгчид мэдээлэл буруу дутуу хүргэснээс шалтгаалсан\n",
      "Toki>Хэтэвч>Данс цэнэглэлттэй холбоотой>L2-Failed transactions гүйлгээ орж ирээгүй\n"
     ]
    },
    {
     "name": "stderr",
     "output_type": "stream",
     "text": [
      "Classifying:   9%|▊         | 4/46 [00:11<01:23,  2.00s/it]"
     ]
    },
    {
     "name": "stdout",
     "output_type": "stream",
     "text": [
      "Toki>Хэтэвч>Кредит эрх тооцоолохтой холбоотой>L2-Зээлийн эрх тооцоологдоогүй\n",
      "Toki>Хэтэвч>Кредит эргэн төлөлттэй холбоотой>L2-Эргэн төлөлт оруулсан\n"
     ]
    },
    {
     "name": "stderr",
     "output_type": "stream",
     "text": [
      "Classifying:  11%|█         | 5/46 [00:15<01:53,  2.77s/it]"
     ]
    },
    {
     "name": "stdout",
     "output_type": "stream",
     "text": [
      "Toki>Хэтэвч>Кредит эргэн төлөлттэй холбоотой>L2-Эргэн төлөлт оруулсан\n",
      "Toki>Хэтэвч>Кредит-н эргэн төлөлттэй холбоотой>L2-Кредит зээлээ төлөхөд алдаа заасан\n"
     ]
    },
    {
     "name": "stderr",
     "output_type": "stream",
     "text": [
      "Classifying:  13%|█▎        | 6/46 [00:18<01:46,  2.66s/it]"
     ]
    },
    {
     "name": "stdout",
     "output_type": "stream",
     "text": [
      "Mobile>Үндсэн үйлчилгээ>Гар утас лизингтэй холбоотой>P-Лизингийн гэрээ байгуулах хүсэлт\n"
     ]
    },
    {
     "name": "stderr",
     "output_type": "stream",
     "text": [
      "Classifying:  17%|█▋        | 8/46 [00:21<01:16,  2.00s/it]"
     ]
    },
    {
     "name": "stdout",
     "output_type": "stream",
     "text": [
      "Toki>Хэтэвч>Шилжүүлэгтэй /withdraw/ холбоотой>L2-Failed transactions гүйлгээ орж ирээгүй\n"
     ]
    },
    {
     "name": "stderr",
     "output_type": "stream",
     "text": [
      "Classifying:  20%|█▉        | 9/46 [00:23<01:12,  1.97s/it]"
     ]
    },
    {
     "name": "stdout",
     "output_type": "stream",
     "text": [
      "Path terminates at Cat2 for 'Toki -> Бусад -> Андуурч холбогдсон'.\n"
     ]
    },
    {
     "name": "stderr",
     "output_type": "stream",
     "text": [
      "Classifying:  22%|██▏       | 10/46 [00:24<01:07,  1.88s/it]"
     ]
    },
    {
     "name": "stdout",
     "output_type": "stream",
     "text": [
      "Toki>Үйлчилгээ>Гар утас лизинг>Төлөлт, гүйлгээтэй холбоотой\n"
     ]
    },
    {
     "name": "stderr",
     "output_type": "stream",
     "text": [
      "Classifying:  24%|██▍       | 11/46 [00:27<01:13,  2.10s/it]"
     ]
    },
    {
     "name": "stdout",
     "output_type": "stream",
     "text": [
      "Mobile>Төлбөр>Дүн, задаргаатай холбоотой>L2-Хэрэглэгч хэрэглээгээ хүлээн зөвшөөрөөгүйгээс шалтгаалсан\n",
      "Mobile>Дата>Дата үлдэгдэлтэй холбоотой>L2-Дата үлдэгдэл буруу харуулсанаас шалтгаалсан*\n"
     ]
    },
    {
     "name": "stderr",
     "output_type": "stream",
     "text": [
      "Classifying:  28%|██▊       | 13/46 [00:30<01:00,  1.83s/it]"
     ]
    },
    {
     "name": "stdout",
     "output_type": "stream",
     "text": [
      "Path terminates at Cat2 for 'Mobile -> Нэмэлт үйлчилгээ -> Хүсэлт нэмэлт үйлчилгээ-1444'.\n"
     ]
    },
    {
     "name": "stderr",
     "output_type": "stream",
     "text": [
      "Classifying:  33%|███▎      | 15/46 [00:34<00:56,  1.82s/it]"
     ]
    },
    {
     "name": "stdout",
     "output_type": "stream",
     "text": [
      "Mobile>Төлбөр>Төлөлт, гүйлгээтэй холбоотой>L2-Төлбөр төлөөд төлөв засагдаагүйгээс шалтгаалсан*/Reactivation Required/\n",
      "Mobile>Дата>Дата үлдэгдэлтэй холбоотой>L2-Дата үлдэгдэл буруу харуулсанаас шалтгаалсан*\n",
      "Mobile>Төлбөр>Төлөлт, гүйлгээтэй холбоотой>L2-Төлбөр төлөөд төлөв засагдаагүйгээс шалтгаалсан*/Reactivation Required/\n"
     ]
    },
    {
     "name": "stderr",
     "output_type": "stream",
     "text": [
      "Classifying:  35%|███▍      | 16/46 [00:39<01:25,  2.86s/it]"
     ]
    },
    {
     "name": "stdout",
     "output_type": "stream",
     "text": [
      "Mobile>Нэгж>Цэнэглэлт, гүйлгээтэй холбоотой>L2-Цэнэглэлт хийгээд үйлчилгээний төлөв өөрчлөгдөөгүйгээс шалтгаалсан*\n"
     ]
    },
    {
     "name": "stderr",
     "output_type": "stream",
     "text": [
      "Classifying:  39%|███▉      | 18/46 [00:42<01:00,  2.16s/it]"
     ]
    },
    {
     "name": "stdout",
     "output_type": "stream",
     "text": [
      "Mobile>Сүлжээ>Дуудлага хийж болохгүй, яриа тасалдаад байгаа>L2-Хэрэглэгчээс шалтгаалсан\n",
      "Mobile>Төлбөр>Төлөлт, гүйлгээтэй холбоотой>L2-Төлбөр төлөөд төлөв засагдаагүйгээс шалтгаалсан*/Reactivation Required/\n"
     ]
    },
    {
     "name": "stderr",
     "output_type": "stream",
     "text": [
      "Classifying:  43%|████▎     | 20/46 [00:47<00:53,  2.08s/it]"
     ]
    },
    {
     "name": "stdout",
     "output_type": "stream",
     "text": [
      "Mobile>Нэгж>Цэнэглэлт, гүйлгээтэй холбоотой>L2-Unitel app-р авсан нэгж ороогүйгээс шалтгаалсан*\n"
     ]
    },
    {
     "name": "stderr",
     "output_type": "stream",
     "text": [
      "Classifying:  46%|████▌     | 21/46 [00:49<00:51,  2.06s/it]"
     ]
    },
    {
     "name": "stdout",
     "output_type": "stream",
     "text": [
      "Mobile>Дугаар>Сим сэргээхтэй холбоотой>P-Сим сэргээлгэх хүсэлт\n",
      "Mobile>Дугаар>Дугаар хааж, нээлгэхтэй холбоотой>L2-Дугаар нээлгэх хүсэлт\n"
     ]
    },
    {
     "name": "stderr",
     "output_type": "stream",
     "text": [
      "Classifying:  50%|█████     | 23/46 [00:53<00:45,  1.96s/it]"
     ]
    },
    {
     "name": "stdout",
     "output_type": "stream",
     "text": [
      "Mobile>Дата>Цэнэглэлт, гүйлгээтэй холбоотой>L2-Unitel app-р авсан дата ороогүйгээс шалтгаалсан*\n"
     ]
    },
    {
     "name": "stderr",
     "output_type": "stream",
     "text": [
      "Classifying:  52%|█████▏    | 24/46 [00:55<00:44,  2.04s/it]"
     ]
    },
    {
     "name": "stdout",
     "output_type": "stream",
     "text": [
      "Toki>Үйлчилгээ>Дата, нэгж>Төлөлт, гүйлгээтэй холбоотой\n",
      "Path terminates at Cat2 for 'LookTV -> Төлбөр -> L1-Хэрэглэгчээс шалтгаалсан гүйлгээний буцаалт'.\n"
     ]
    },
    {
     "name": "stderr",
     "output_type": "stream",
     "text": [
      "Classifying:  57%|█████▋    | 26/46 [01:00<00:44,  2.25s/it]"
     ]
    },
    {
     "name": "stdout",
     "output_type": "stream",
     "text": [
      "LookTV>Багц>Багц өөрчлөхтэй холбоотой>L2-Багц өөрчлөхөд алдаа зааснаас шалтгаалсан*\n",
      "Path terminates at Cat2 for 'IPTV -> Төлбөр -> L1-Хэрэглэгчийн гүйлгээ олдоогүйгээс шалтгаалсан'.\n"
     ]
    },
    {
     "name": "stderr",
     "output_type": "stream",
     "text": [
      "Classifying:  63%|██████▎   | 29/46 [01:04<00:27,  1.59s/it]"
     ]
    },
    {
     "name": "stdout",
     "output_type": "stream",
     "text": [
      "Mobile>Төлбөр>Төлөлт, гүйлгээтэй холбоотой>L1-Хэрэглэгчийн гүйлгээ олдоогүйгээс шалтгаалсан\n",
      "Mobile>Масс гэмтэл>Төлөвлөгөөт ажилтай холбоотой>Other/Unknown\n",
      "IPTV>Төлбөр>Дүн, задаргаатай холбоотой>L2-Төхөөрөмж лизингийн төлбөр давхар гарсанаас шалтгаалсан*\n"
     ]
    },
    {
     "name": "stderr",
     "output_type": "stream",
     "text": [
      "Classifying:  65%|██████▌   | 30/46 [01:09<00:41,  2.58s/it]"
     ]
    },
    {
     "name": "stdout",
     "output_type": "stream",
     "text": [
      "IPTV>ТВ>Гарахгүй байгаа>S-Зурагтын төхөөрөмжөөс шалтгаалсан\n"
     ]
    },
    {
     "name": "stderr",
     "output_type": "stream",
     "text": [
      "Classifying:  72%|███████▏  | 33/46 [01:13<00:22,  1.70s/it]"
     ]
    },
    {
     "name": "stdout",
     "output_type": "stream",
     "text": [
      "Ger Internet>Төлбөр>Төлөлт, гүйлгээтэй холбоотой>L2-Банкаар хийсэн төлбөр орж ирээгүйгээс шалтгаалсан*\n",
      "Path terminates at Cat2 for 'Ger Internet -> Интернэтийн нэр, нууц үгтэй холбоотой -> Wifi нууц үг сольсон'.\n",
      "Ger Internet>Дугаартай холбоотой>Гэр дугаартай холбоотой>Other/Unknown\n",
      "Ger Internet>Төлбөр>Авлага үүссэнтэй холбоотой>L2-НАЗ-р хаагдсан хэрэглэгчийн гүйлгээг залруулуулах хүсэлт\n"
     ]
    },
    {
     "name": "stderr",
     "output_type": "stream",
     "text": [
      "Classifying:  78%|███████▊  | 36/46 [01:20<00:18,  1.86s/it]"
     ]
    },
    {
     "name": "stdout",
     "output_type": "stream",
     "text": [
      "Path terminates at Cat2 for 'Ger Internet -> Үйлчилгээ -> Нэр шилжүүлэхтэй холбоотой'.\n"
     ]
    },
    {
     "name": "stderr",
     "output_type": "stream",
     "text": [
      "Classifying:  80%|████████  | 37/46 [01:23<00:19,  2.17s/it]"
     ]
    },
    {
     "name": "stdout",
     "output_type": "stream",
     "text": [
      "Ger Internet>Дугаартай холбоотой>Гэр дугаартай холбоотой>Other/Unknown\n",
      "Ger Internet>Сүлжээ>Интернэт орохгүй, хурд удаан байгаа>L2-Хэрэглэгчээс шалтгаалсан\n"
     ]
    },
    {
     "name": "stderr",
     "output_type": "stream",
     "text": [
      "Classifying:  85%|████████▍ | 39/46 [01:28<00:15,  2.25s/it]"
     ]
    },
    {
     "name": "stdout",
     "output_type": "stream",
     "text": [
      "Ger Internet>Сүлжээ>Интернэт орохгүй, хурд удаан байгаа>L2-Шалтгаан тодруулахаар шилжүүлсэн\n"
     ]
    },
    {
     "name": "stderr",
     "output_type": "stream",
     "text": [
      "Classifying:  87%|████████▋ | 40/46 [01:29<00:11,  1.98s/it]"
     ]
    },
    {
     "name": "stdout",
     "output_type": "stream",
     "text": [
      "Ger Internet>Дата>Дата багцуудтай холбоотой>Other/Unknown\n",
      "Ger Internet>Дата>Дата уншихгүй, хурд удаан байгаа>L2-Дата утга зөрснөөс шалтгаалсан\n"
     ]
    },
    {
     "name": "stderr",
     "output_type": "stream",
     "text": [
      "Classifying:  89%|████████▉ | 41/46 [01:33<00:12,  2.43s/it]"
     ]
    },
    {
     "name": "stdout",
     "output_type": "stream",
     "text": [
      "Ger Internet>Сүлжээ>Интернэт орохгүй, хурд удаан байгаа>L2-Инженер шалгахад хэвийн байсан\n"
     ]
    },
    {
     "name": "stderr",
     "output_type": "stream",
     "text": [
      "Classifying:  96%|█████████▌| 44/46 [01:37<00:03,  1.72s/it]"
     ]
    },
    {
     "name": "stdout",
     "output_type": "stream",
     "text": [
      "Path terminates at Cat2 for 'Ger Internet -> Интернэтийн нэр, нууц үгтэй холбоотой -> Wifi нууц үг сольсон'.\n",
      "Ger Internet>Дата>Дата уншихгүй, хурд удаан байгаа>L2-Дата утга зөрснөөс шалтгаалсан\n"
     ]
    },
    {
     "name": "stderr",
     "output_type": "stream",
     "text": [
      "Classifying: 100%|██████████| 46/46 [01:41<00:00,  2.21s/it]\n"
     ]
    },
    {
     "data": {
      "text/html": [
       "<div>\n",
       "<style scoped>\n",
       "    .dataframe tbody tr th:only-of-type {\n",
       "        vertical-align: middle;\n",
       "    }\n",
       "\n",
       "    .dataframe tbody tr th {\n",
       "        vertical-align: top;\n",
       "    }\n",
       "\n",
       "    .dataframe thead th {\n",
       "        text-align: right;\n",
       "    }\n",
       "</style>\n",
       "<table border=\"1\" class=\"dataframe\">\n",
       "  <thead>\n",
       "    <tr style=\"text-align: right;\">\n",
       "      <th></th>\n",
       "      <th>ticket</th>\n",
       "      <th>gt_domain</th>\n",
       "      <th>gt_category_1</th>\n",
       "      <th>gt_category_2</th>\n",
       "      <th>gt_category_3</th>\n",
       "      <th>gt_path</th>\n",
       "      <th>seq_domain</th>\n",
       "      <th>seq_category_1</th>\n",
       "      <th>seq_category_2</th>\n",
       "      <th>seq_category_3</th>\n",
       "      <th>...</th>\n",
       "      <th>kb_conf_L3</th>\n",
       "      <th>kb_conf_L4</th>\n",
       "      <th>kb_selected_index</th>\n",
       "      <th>kb_abstain</th>\n",
       "      <th>kb_rationale</th>\n",
       "      <th>kb_path</th>\n",
       "      <th>PartMatch_seq</th>\n",
       "      <th>PartMatch_kb</th>\n",
       "      <th>Fuzzy_seq</th>\n",
       "      <th>Fuzzy_kb</th>\n",
       "    </tr>\n",
       "  </thead>\n",
       "  <tbody>\n",
       "    <tr>\n",
       "      <th>0</th>\n",
       "      <td>Эрдэнэболд Эрдэнэбилэг': \"ажилтантай холбогдох...</td>\n",
       "      <td></td>\n",
       "      <td></td>\n",
       "      <td></td>\n",
       "      <td></td>\n",
       "      <td></td>\n",
       "      <td>Toki</td>\n",
       "      <td>Гомдол</td>\n",
       "      <td>Physical сувагтай холбоотой</td>\n",
       "      <td>Апп-тай холбоотой</td>\n",
       "      <td>...</td>\n",
       "      <td>1.0</td>\n",
       "      <td>1.0</td>\n",
       "      <td>9</td>\n",
       "      <td>False</td>\n",
       "      <td>Сонгосон зам: Toki &gt; Хэтэвч &gt; Paylater үйлчилг...</td>\n",
       "      <td>Toki &gt; Хэтэвч &gt; Paylater үйлчилгээ &gt; L2-Эргэн ...</td>\n",
       "      <td>0.0</td>\n",
       "      <td>0.0</td>\n",
       "      <td>0.0</td>\n",
       "      <td>0.0</td>\n",
       "    </tr>\n",
       "    <tr>\n",
       "      <th>1</th>\n",
       "      <td>customer service': \"Та төлбөрийн гүйлгээний ху...</td>\n",
       "      <td></td>\n",
       "      <td></td>\n",
       "      <td></td>\n",
       "      <td></td>\n",
       "      <td></td>\n",
       "      <td>Toki</td>\n",
       "      <td>Гомдол</td>\n",
       "      <td>Апп-тай холбоотой</td>\n",
       "      <td>L2-Failed transactions гүйлгээ орж ирээгүй</td>\n",
       "      <td>...</td>\n",
       "      <td>1.0</td>\n",
       "      <td>1.0</td>\n",
       "      <td>8</td>\n",
       "      <td>False</td>\n",
       "      <td>Сонгосон зам: Toki &gt; Хэтэвч &gt; Данс цэнэглэлттэ...</td>\n",
       "      <td>Toki &gt; Хэтэвч &gt; Данс цэнэглэлттэй холбоотой &gt; ...</td>\n",
       "      <td>0.0</td>\n",
       "      <td>0.0</td>\n",
       "      <td>0.0</td>\n",
       "      <td>0.0</td>\n",
       "    </tr>\n",
       "    <tr>\n",
       "      <th>2</th>\n",
       "      <td>Claria Ryy': \"Tgvel toki zeeliin erheere oor g...</td>\n",
       "      <td></td>\n",
       "      <td></td>\n",
       "      <td></td>\n",
       "      <td></td>\n",
       "      <td></td>\n",
       "      <td>Toki</td>\n",
       "      <td>Гомдол</td>\n",
       "      <td>Апп-тай холбоотой</td>\n",
       "      <td>L2-Хэрэглэгчид мэдээлэл буруу дутуу хүргэснээс...</td>\n",
       "      <td>...</td>\n",
       "      <td>0.0</td>\n",
       "      <td>0.0</td>\n",
       "      <td>19</td>\n",
       "      <td>True</td>\n",
       "      <td>Сонгосон зам: Toki &gt; Үйлчилгээ &gt; Дэлгүүрүүд &gt; ...</td>\n",
       "      <td>Toki &gt; Үйлчилгээ &gt; Дэлгүүрүүд &gt; Захиалга, хүрг...</td>\n",
       "      <td>0.0</td>\n",
       "      <td>0.0</td>\n",
       "      <td>0.0</td>\n",
       "      <td>0.0</td>\n",
       "    </tr>\n",
       "  </tbody>\n",
       "</table>\n",
       "<p>3 rows × 31 columns</p>\n",
       "</div>"
      ],
      "text/plain": [
       "                                              ticket gt_domain gt_category_1  \\\n",
       "0  Эрдэнэболд Эрдэнэбилэг': \"ажилтантай холбогдох...                           \n",
       "1  customer service': \"Та төлбөрийн гүйлгээний ху...                           \n",
       "2  Claria Ryy': \"Tgvel toki zeeliin erheere oor g...                           \n",
       "\n",
       "  gt_category_2 gt_category_3 gt_path seq_domain seq_category_1  \\\n",
       "0                                           Toki         Гомдол   \n",
       "1                                           Toki         Гомдол   \n",
       "2                                           Toki         Гомдол   \n",
       "\n",
       "                seq_category_2  \\\n",
       "0  Physical сувагтай холбоотой   \n",
       "1            Апп-тай холбоотой   \n",
       "2            Апп-тай холбоотой   \n",
       "\n",
       "                                      seq_category_3  ... kb_conf_L3  \\\n",
       "0                                  Апп-тай холбоотой  ...        1.0   \n",
       "1         L2-Failed transactions гүйлгээ орж ирээгүй  ...        1.0   \n",
       "2  L2-Хэрэглэгчид мэдээлэл буруу дутуу хүргэснээс...  ...        0.0   \n",
       "\n",
       "  kb_conf_L4 kb_selected_index kb_abstain  \\\n",
       "0        1.0                 9      False   \n",
       "1        1.0                 8      False   \n",
       "2        0.0                19       True   \n",
       "\n",
       "                                        kb_rationale  \\\n",
       "0  Сонгосон зам: Toki > Хэтэвч > Paylater үйлчилг...   \n",
       "1  Сонгосон зам: Toki > Хэтэвч > Данс цэнэглэлттэ...   \n",
       "2  Сонгосон зам: Toki > Үйлчилгээ > Дэлгүүрүүд > ...   \n",
       "\n",
       "                                             kb_path PartMatch_seq  \\\n",
       "0  Toki > Хэтэвч > Paylater үйлчилгээ > L2-Эргэн ...           0.0   \n",
       "1  Toki > Хэтэвч > Данс цэнэглэлттэй холбоотой > ...           0.0   \n",
       "2  Toki > Үйлчилгээ > Дэлгүүрүүд > Захиалга, хүрг...           0.0   \n",
       "\n",
       "  PartMatch_kb Fuzzy_seq  Fuzzy_kb  \n",
       "0          0.0       0.0       0.0  \n",
       "1          0.0       0.0       0.0  \n",
       "2          0.0       0.0       0.0  \n",
       "\n",
       "[3 rows x 31 columns]"
      ]
     },
     "execution_count": 2,
     "metadata": {},
     "output_type": "execute_result"
    }
   ],
   "source": [
    "# --- Notebook Cell 2: Run classification & build evaluation table ---\n",
    "\n",
    "import asyncio\n",
    "from tqdm import tqdm  # optional; if unavailable, comment out\n",
    "\n",
    "# Instantiate your systems\n",
    "pipeline = SequentialAgentPipeline(TAXONOMY_CSV)\n",
    "classifier = SmartClassifier(csv_path=TAXONOMY_CSV)\n",
    "\n",
    "# Load tickets\n",
    "tickets = pd.read_csv(TICKETS_CSV, encoding=\"utf-8-sig\")\n",
    "\n",
    "# Try to locate ground-truth columns\n",
    "gt_cols = first_existing_column_set(tickets, GT_CANDIDATE_NAMES)\n",
    "if gt_cols is None:\n",
    "    # Create blank GT columns if none found (keeps the pipeline working)\n",
    "    gt_cols = (\"gt_domain\", \"gt_category_1\", \"gt_category_2\", \"gt_category_3\")\n",
    "    for c in gt_cols:\n",
    "        if c not in tickets.columns:\n",
    "            tickets[c] = \"\"\n",
    "\n",
    "GT_L1, GT_L2, GT_L3, GT_L4 = gt_cols\n",
    "\n",
    "# Prepare containers\n",
    "rows = []\n",
    "\n",
    "# Async concurrency limiter (avoid hammering LLMs)\n",
    "SEMAPHORE = asyncio.Semaphore(4)\n",
    "\n",
    "\n",
    "async def process_ticket(ticket_text: str):\n",
    "    async with SEMAPHORE:\n",
    "        # sequential path\n",
    "        seq_pred = await pipeline.run(ticket_text)\n",
    "        seq_L1, seq_L2, seq_L3, seq_L4 = seq_extract_names(seq_pred)\n",
    "        seq_path = build_path(seq_L1, seq_L2, seq_L3, seq_L4)\n",
    "\n",
    "        # KB path\n",
    "        kb_obj = await classifier.classify(ticket_text)\n",
    "        kb = kb_extract_levels(kb_obj)\n",
    "        kb_L1 = normalize_str(kb[\"L1\"][\"name\"])\n",
    "        kb_L2 = normalize_str(kb[\"L2\"][\"name\"])\n",
    "        kb_L3 = normalize_str(kb[\"L3\"][\"name\"])\n",
    "        kb_L4 = normalize_str(kb[\"L4\"][\"name\"])\n",
    "        kb_path = normalize_str(kb[\"meta\"][\"path_mn\"]) or build_path(\n",
    "            kb_L1, kb_L2, kb_L3, kb_L4\n",
    "        )\n",
    "\n",
    "        return {\n",
    "            \"seq\": {\n",
    "                \"L1\": seq_L1,\n",
    "                \"L2\": seq_L2,\n",
    "                \"L3\": seq_L3,\n",
    "                \"L4\": seq_L4,\n",
    "                \"path\": seq_path,\n",
    "            },\n",
    "            \"kb\": {\n",
    "                \"L1_name\": kb_L1,\n",
    "                \"L2_name\": kb_L2,\n",
    "                \"L3_name\": kb_L3,\n",
    "                \"L4_name\": kb_L4,\n",
    "                \"L1_id\": normalize_str(kb[\"L1\"][\"id\"]),\n",
    "                \"L2_id\": normalize_str(kb[\"L2\"][\"id\"]),\n",
    "                \"L3_id\": normalize_str(kb[\"L3\"][\"id\"]),\n",
    "                \"L4_id\": normalize_str(kb[\"L4\"][\"id\"]),\n",
    "                \"L1_conf\": kb[\"L1\"][\"confidence\"],\n",
    "                \"L2_conf\": kb[\"L2\"][\"confidence\"],\n",
    "                \"L3_conf\": kb[\"L3\"][\"confidence\"],\n",
    "                \"L4_conf\": kb[\"L4\"][\"confidence\"],\n",
    "                \"selected_index\": kb[\"meta\"][\"selected_index\"],\n",
    "                \"abstain\": kb[\"meta\"][\"abstain\"],\n",
    "                \"rationale\": kb[\"meta\"][\"rationale\"],\n",
    "                \"path\": kb_path,\n",
    "            },\n",
    "            \"raw\": kb_obj,  # optional/debug\n",
    "        }\n",
    "\n",
    "\n",
    "async def run_all():\n",
    "    tasks = []\n",
    "    for txt in tickets[\"ticket\"].astype(str).tolist():\n",
    "        tasks.append(asyncio.create_task(process_ticket(txt)))\n",
    "    out = []\n",
    "    for t in tqdm(asyncio.as_completed(tasks), total=len(tasks), desc=\"Classifying\"):\n",
    "        out.append(await t)\n",
    "    # preserve original order\n",
    "    return [r for r in out]\n",
    "\n",
    "\n",
    "# --- Execute the async pipeline in both notebook & script contexts ---\n",
    "\n",
    "import sys, asyncio\n",
    "\n",
    "async def _run_all_wrapper():\n",
    "    return await run_all()\n",
    "\n",
    "IN_IPYTHON = \"ipykernel\" in sys.modules or \"IPython\" in sys.modules\n",
    "\n",
    "if IN_IPYTHON:\n",
    "    # Notebook/Colab: just await (top-level await is supported)\n",
    "    results = await _run_all_wrapper()\n",
    "else:\n",
    "    # Plain Python script\n",
    "    results = asyncio.run(_run_all_wrapper())\n",
    "# Build a row-wise dataframe with GT, seq, kb, and metrics\n",
    "for i, res in enumerate(results):\n",
    "    row_src = tickets.iloc[i]\n",
    "    gt_tuple = (\n",
    "        normalize_str(row_src[GT_L1]),\n",
    "        normalize_str(row_src[GT_L2]),\n",
    "        normalize_str(row_src[GT_L3]),\n",
    "        normalize_str(row_src[GT_L4]),\n",
    "    )\n",
    "\n",
    "    seq_tuple = (res[\"seq\"][\"L1\"], res[\"seq\"][\"L2\"], res[\"seq\"][\"L3\"], res[\"seq\"][\"L4\"])\n",
    "    kb_tuple = (\n",
    "        res[\"kb\"][\"L1_name\"],\n",
    "        res[\"kb\"][\"L2_name\"],\n",
    "        res[\"kb\"][\"L3_name\"],\n",
    "        res[\"kb\"][\"L4_name\"],\n",
    "    )\n",
    "\n",
    "    # Metrics\n",
    "    pm_seq = part_match_score(gt_tuple, seq_tuple)\n",
    "    pm_kb = part_match_score(gt_tuple, kb_tuple)\n",
    "    fz_seq = fuzzy_ratio(build_path(*gt_tuple), res[\"seq\"][\"path\"])\n",
    "    fz_kb = fuzzy_ratio(build_path(*gt_tuple), res[\"kb\"][\"path\"])\n",
    "\n",
    "    rows.append(\n",
    "        {\n",
    "            # raw ticket text\n",
    "            \"ticket\": row_src.get(\"ticket\", \"\"),\n",
    "            # ground truth (detected columns)\n",
    "            \"gt_domain\": gt_tuple[0],\n",
    "            \"gt_category_1\": gt_tuple[1],\n",
    "            \"gt_category_2\": gt_tuple[2],\n",
    "            \"gt_category_3\": gt_tuple[3],\n",
    "            \"gt_path\": build_path(*gt_tuple),\n",
    "            # sequential agent preds (names only)\n",
    "            \"seq_domain\": res[\"seq\"][\"L1\"],\n",
    "            \"seq_category_1\": res[\"seq\"][\"L2\"],\n",
    "            \"seq_category_2\": res[\"seq\"][\"L3\"],\n",
    "            \"seq_category_3\": res[\"seq\"][\"L4\"],\n",
    "            \"seq_path\": res[\"seq\"][\"path\"],\n",
    "            # kb agent preds (names + ids + confidences)\n",
    "            \"kb_domain\": res[\"kb\"][\"L1_name\"],\n",
    "            \"kb_category_1\": res[\"kb\"][\"L2_name\"],\n",
    "            \"kb_category_2\": res[\"kb\"][\"L3_name\"],\n",
    "            \"kb_category_3\": res[\"kb\"][\"L4_name\"],\n",
    "            \"kb_domain_id\": res[\"kb\"][\"L1_id\"],\n",
    "            \"kb_category_1_id\": res[\"kb\"][\"L2_id\"],\n",
    "            \"kb_category_2_id\": res[\"kb\"][\"L3_id\"],\n",
    "            \"kb_category_3_id\": res[\"kb\"][\"L4_id\"],\n",
    "            \"kb_conf_L1\": res[\"kb\"][\"L1_conf\"],\n",
    "            \"kb_conf_L2\": res[\"kb\"][\"L2_conf\"],\n",
    "            \"kb_conf_L3\": res[\"kb\"][\"L3_conf\"],\n",
    "            \"kb_conf_L4\": res[\"kb\"][\"L4_conf\"],\n",
    "            \"kb_selected_index\": res[\"kb\"][\"selected_index\"],\n",
    "            \"kb_abstain\": res[\"kb\"][\"abstain\"],\n",
    "            \"kb_rationale\": res[\"kb\"][\"rationale\"],\n",
    "            \"kb_path\": res[\"kb\"][\"path\"],\n",
    "            # metrics\n",
    "            \"PartMatch_seq\": pm_seq,\n",
    "            \"PartMatch_kb\": pm_kb,\n",
    "            \"Fuzzy_seq\": fz_seq,\n",
    "            \"Fuzzy_kb\": fz_kb,\n",
    "        }\n",
    "    )\n",
    "\n",
    "evaluated = pd.DataFrame(rows)\n",
    "\n",
    "# Persist detailed rows\n",
    "os.makedirs(DATA_DIR, exist_ok=True)\n",
    "evaluated.to_csv(OUT_DETAILED, index=False, encoding=\"utf-8-sig\")\n",
    "\n",
    "# Produce a compact summary\n",
    "summary = (\n",
    "    evaluated[[\"PartMatch_seq\", \"PartMatch_kb\", \"Fuzzy_seq\", \"Fuzzy_kb\"]]\n",
    "    .agg([\"mean\"])\n",
    "    .rename(index={\"mean\": \"average\"})\n",
    ")\n",
    "summary.to_csv(OUT_SUMMARY, encoding=\"utf-8-sig\")\n",
    "evaluated.head(3)"
   ]
  },
  {
   "cell_type": "code",
   "execution_count": 3,
   "id": "4c7f0bd3",
   "metadata": {},
   "outputs": [
    {
     "data": {
      "text/html": [
       "<div>\n",
       "<style scoped>\n",
       "    .dataframe tbody tr th:only-of-type {\n",
       "        vertical-align: middle;\n",
       "    }\n",
       "\n",
       "    .dataframe tbody tr th {\n",
       "        vertical-align: top;\n",
       "    }\n",
       "\n",
       "    .dataframe thead th {\n",
       "        text-align: right;\n",
       "    }\n",
       "</style>\n",
       "<table border=\"1\" class=\"dataframe\">\n",
       "  <thead>\n",
       "    <tr style=\"text-align: right;\">\n",
       "      <th></th>\n",
       "      <th>system</th>\n",
       "      <th>PartMatch</th>\n",
       "      <th>Fuzzy</th>\n",
       "    </tr>\n",
       "  </thead>\n",
       "  <tbody>\n",
       "    <tr>\n",
       "      <th>0</th>\n",
       "      <td>sequential</td>\n",
       "      <td>0.0</td>\n",
       "      <td>0.0</td>\n",
       "    </tr>\n",
       "    <tr>\n",
       "      <th>1</th>\n",
       "      <td>kb agent</td>\n",
       "      <td>0.0</td>\n",
       "      <td>0.0</td>\n",
       "    </tr>\n",
       "  </tbody>\n",
       "</table>\n",
       "</div>"
      ],
      "text/plain": [
       "       system  PartMatch  Fuzzy\n",
       "0  sequential        0.0    0.0\n",
       "1    kb agent        0.0    0.0"
      ]
     },
     "metadata": {},
     "output_type": "display_data"
    }
   ],
   "source": [
    "# --- Notebook Cell 3: Optional utilities for threshold sweeps ---\n",
    "\n",
    "\n",
    "def summarize_by_system(df: pd.DataFrame) -> pd.DataFrame:\n",
    "    out = []\n",
    "    out.append(\n",
    "        {\n",
    "            \"system\": \"sequential\",\n",
    "            \"PartMatch\": df[\"PartMatch_seq\"].mean(),\n",
    "            \"Fuzzy\": df[\"Fuzzy_seq\"].mean(),\n",
    "        }\n",
    "    )\n",
    "    out.append(\n",
    "        {\n",
    "            \"system\": \"kb agent\",\n",
    "            \"PartMatch\": df[\"PartMatch_kb\"].mean(),\n",
    "            \"Fuzzy\": df[\"Fuzzy_kb\"].mean(),\n",
    "        }\n",
    "    )\n",
    "    return pd.DataFrame(out).sort_values([\"PartMatch\", \"Fuzzy\"], ascending=False)\n",
    "\n",
    "\n",
    "display(summarize_by_system(evaluated))"
   ]
  },
  {
   "cell_type": "code",
   "execution_count": null,
   "id": "f934db35",
   "metadata": {},
   "outputs": [],
   "source": []
  }
 ],
 "metadata": {
  "kernelspec": {
   "display_name": "base",
   "language": "python",
   "name": "python3"
  },
  "language_info": {
   "codemirror_mode": {
    "name": "ipython",
    "version": 3
   },
   "file_extension": ".py",
   "mimetype": "text/x-python",
   "name": "python",
   "nbconvert_exporter": "python",
   "pygments_lexer": "ipython3",
   "version": "3.13.2"
  }
 },
 "nbformat": 4,
 "nbformat_minor": 5
}
